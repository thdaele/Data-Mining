{
 "cells": [
  {
   "cell_type": "code",
   "execution_count": 1,
   "outputs": [],
   "source": [
    "import numpy as np\n",
    "import pandas as pd\n",
    "from imblearn.over_sampling import SMOTE\n",
    "from imblearn.pipeline import Pipeline\n",
    "from sklearn.compose import make_column_transformer\n",
    "from sklearn.ensemble import BaggingClassifier, AdaBoostClassifier, RandomForestClassifier\n",
    "from sklearn.impute import KNNImputer\n",
    "from sklearn.metrics import classification_report\n",
    "from sklearn.model_selection import cross_val_score, RepeatedStratifiedKFold, train_test_split, GridSearchCV\n",
    "from sklearn.naive_bayes import CategoricalNB\n",
    "from sklearn.neighbors import KNeighborsClassifier\n",
    "from sklearn.preprocessing import OneHotEncoder, OrdinalEncoder, LabelBinarizer, MinMaxScaler, KBinsDiscretizer\n",
    "from sklearn.tree import DecisionTreeClassifier"
   ],
   "metadata": {
    "collapsed": false
   }
  },
  {
   "cell_type": "code",
   "execution_count": 2,
   "outputs": [
    {
     "name": "stderr",
     "output_type": "stream",
     "text": [
      "/home/thomas/Projects/Data-Mining/venv/lib/python3.10/site-packages/openpyxl/styles/stylesheet.py:226: UserWarning: Workbook contains no default style, apply openpyxl's default\n",
      "  warn(\"Workbook contains no default style, apply openpyxl's default\")\n"
     ]
    },
    {
     "name": "stdout",
     "output_type": "stream",
     "text": [
      "<class 'pandas.core.frame.DataFrame'>\n",
      "RangeIndex: 32561 entries, 0 to 32560\n",
      "Data columns (total 11 columns):\n",
      " #   Column          Non-Null Count  Dtype \n",
      "---  ------          --------------  ----- \n",
      " 0   age             32561 non-null  int64 \n",
      " 1   workclass       30725 non-null  object\n",
      " 2   education       32561 non-null  object\n",
      " 3   education-num   32561 non-null  int64 \n",
      " 4   marital-status  32561 non-null  object\n",
      " 5   occupation      30718 non-null  object\n",
      " 6   relationship    32561 non-null  object\n",
      " 7   capital-gain    32561 non-null  int64 \n",
      " 8   capital-loss    32561 non-null  int64 \n",
      " 9   hours-per-week  32561 non-null  int64 \n",
      " 10  class           32561 non-null  object\n",
      "dtypes: int64(5), object(6)\n",
      "memory usage: 2.7+ MB\n",
      "None\n",
      "Index(['age', 'workclass', 'education', 'education-num', 'marital-status',\n",
      "       'occupation', 'relationship', 'capital-gain', 'capital-loss',\n",
      "       'hours-per-week', 'class'],\n",
      "      dtype='object')\n",
      "   age         workclass  education  education-num      marital-status   \n",
      "0   39         State-gov  Bachelors             13       Never-married  \\\n",
      "1   50  Self-emp-not-inc  Bachelors             13  Married-civ-spouse   \n",
      "2   38           Private    HS-grad              9            Divorced   \n",
      "3   53           Private       11th              7  Married-civ-spouse   \n",
      "4   28           Private  Bachelors             13  Married-civ-spouse   \n",
      "\n",
      "          occupation   relationship  capital-gain  capital-loss   \n",
      "0       Adm-clerical  Not-in-family          2174             0  \\\n",
      "1    Exec-managerial        Husband             0             0   \n",
      "2  Handlers-cleaners  Not-in-family             0             0   \n",
      "3  Handlers-cleaners        Husband             0             0   \n",
      "4     Prof-specialty           Wife             0             0   \n",
      "\n",
      "   hours-per-week  class  \n",
      "0              40  <=50K  \n",
      "1              13  <=50K  \n",
      "2              40  <=50K  \n",
      "3              40  <=50K  \n",
      "4              40  <=50K  \n"
     ]
    },
    {
     "name": "stderr",
     "output_type": "stream",
     "text": [
      "/home/thomas/Projects/Data-Mining/venv/lib/python3.10/site-packages/openpyxl/styles/stylesheet.py:226: UserWarning: Workbook contains no default style, apply openpyxl's default\n",
      "  warn(\"Workbook contains no default style, apply openpyxl's default\")\n"
     ]
    }
   ],
   "source": [
    "def preprocess_data(df, columns):\n",
    "    df.drop(columns, axis=1, inplace=True)\n",
    "    return df.replace('?', np.nan)\n",
    "\n",
    "columns_to_drop = ['RowID', 'race', 'sex', 'native-country']\n",
    "categorical_columns = ['workclass', 'education', 'marital-status', 'occupation', 'relationship']\n",
    "\n",
    "labeled_data = pd.read_excel('./data/existing-customers.xlsx')\n",
    "labeled_data = preprocess_data(labeled_data, columns_to_drop)\n",
    "\n",
    "print(labeled_data.info())\n",
    "print(labeled_data.columns)\n",
    "print(labeled_data.head())\n",
    "\n",
    "unlabeled_data = pd.read_excel('./data/potential-customers.xlsx')\n",
    "unlabeled_data = preprocess_data(unlabeled_data, columns_to_drop)"
   ],
   "metadata": {
    "collapsed": false
   }
  },
  {
   "cell_type": "code",
   "execution_count": 3,
   "outputs": [],
   "source": [
    "all_data = pd.concat([labeled_data, unlabeled_data], axis=0)\n",
    "categorical_unique_list = [all_data[c].unique().tolist() for c in categorical_columns]"
   ],
   "metadata": {
    "collapsed": false
   }
  },
  {
   "cell_type": "code",
   "execution_count": 4,
   "outputs": [
    {
     "data": {
      "text/plain": "           columns  missing values  Percentage missing\n0              age               0            0.000000\n1        workclass            1836            5.638647\n2        education               0            0.000000\n3    education-num               0            0.000000\n4   marital-status               0            0.000000\n5       occupation            1843            5.660146\n6     relationship               0            0.000000\n7     capital-gain               0            0.000000\n8     capital-loss               0            0.000000\n9   hours-per-week               0            0.000000\n10           class               0            0.000000",
      "text/html": "<div>\n<style scoped>\n    .dataframe tbody tr th:only-of-type {\n        vertical-align: middle;\n    }\n\n    .dataframe tbody tr th {\n        vertical-align: top;\n    }\n\n    .dataframe thead th {\n        text-align: right;\n    }\n</style>\n<table border=\"1\" class=\"dataframe\">\n  <thead>\n    <tr style=\"text-align: right;\">\n      <th></th>\n      <th>columns</th>\n      <th>missing values</th>\n      <th>Percentage missing</th>\n    </tr>\n  </thead>\n  <tbody>\n    <tr>\n      <th>0</th>\n      <td>age</td>\n      <td>0</td>\n      <td>0.000000</td>\n    </tr>\n    <tr>\n      <th>1</th>\n      <td>workclass</td>\n      <td>1836</td>\n      <td>5.638647</td>\n    </tr>\n    <tr>\n      <th>2</th>\n      <td>education</td>\n      <td>0</td>\n      <td>0.000000</td>\n    </tr>\n    <tr>\n      <th>3</th>\n      <td>education-num</td>\n      <td>0</td>\n      <td>0.000000</td>\n    </tr>\n    <tr>\n      <th>4</th>\n      <td>marital-status</td>\n      <td>0</td>\n      <td>0.000000</td>\n    </tr>\n    <tr>\n      <th>5</th>\n      <td>occupation</td>\n      <td>1843</td>\n      <td>5.660146</td>\n    </tr>\n    <tr>\n      <th>6</th>\n      <td>relationship</td>\n      <td>0</td>\n      <td>0.000000</td>\n    </tr>\n    <tr>\n      <th>7</th>\n      <td>capital-gain</td>\n      <td>0</td>\n      <td>0.000000</td>\n    </tr>\n    <tr>\n      <th>8</th>\n      <td>capital-loss</td>\n      <td>0</td>\n      <td>0.000000</td>\n    </tr>\n    <tr>\n      <th>9</th>\n      <td>hours-per-week</td>\n      <td>0</td>\n      <td>0.000000</td>\n    </tr>\n    <tr>\n      <th>10</th>\n      <td>class</td>\n      <td>0</td>\n      <td>0.000000</td>\n    </tr>\n  </tbody>\n</table>\n</div>"
     },
     "execution_count": 4,
     "metadata": {},
     "output_type": "execute_result"
    }
   ],
   "source": [
    "def missing_data(df):\n",
    "    missing_values = df.isnull().sum().reset_index()\n",
    "    missing_values = missing_values.rename(columns={'index': 'columns', 0: 'missing values'})\n",
    "    missing_values['Percentage missing'] = missing_values['missing values'] / len(df) * 100\n",
    "    return missing_values\n",
    "\n",
    "missing_data(labeled_data)"
   ],
   "metadata": {
    "collapsed": false
   }
  },
  {
   "cell_type": "code",
   "execution_count": 5,
   "outputs": [],
   "source": [
    "X = labeled_data.drop(\"class\", axis=1)\n",
    "y = labeled_data[\"class\"]\n",
    "\n",
    "X_train, X_test, y_train, y_test = train_test_split(X, y, test_size=0.3)"
   ],
   "metadata": {
    "collapsed": false
   }
  },
  {
   "cell_type": "code",
   "execution_count": 6,
   "outputs": [],
   "source": [
    "ohe = OneHotEncoder(sparse_output=False, handle_unknown='ignore', categories=categorical_unique_list)\n",
    "oe = OrdinalEncoder(categories=categorical_unique_list)\n",
    "lb = LabelBinarizer()\n",
    "\n",
    "ohe_pipeline = make_column_transformer(\n",
    "    (ohe, categorical_columns),\n",
    "    remainder='passthrough'\n",
    ")\n",
    "oe_pipeline = make_column_transformer(\n",
    "    (oe, categorical_columns),\n",
    "    remainder='passthrough'\n",
    ")\n",
    "y_train = lb.fit_transform(y_train)"
   ],
   "metadata": {
    "collapsed": false
   }
  },
  {
   "cell_type": "code",
   "execution_count": 7,
   "outputs": [],
   "source": [
    "classifiers = [\n",
    "    DecisionTreeClassifier(max_depth=3),\n",
    "    KNeighborsClassifier(),\n",
    "    CategoricalNB(),\n",
    "    BaggingClassifier(estimator=DecisionTreeClassifier(max_depth=3), n_estimators=10),\n",
    "    AdaBoostClassifier(estimator=DecisionTreeClassifier(max_depth=3), n_estimators=50),\n",
    "    RandomForestClassifier(n_estimators=100, max_depth=3)\n",
    "]\n",
    "\n",
    "pipelines = dict()\n",
    "tree_based_classifiers = ['DecisionTreeClassifier', 'BaggingClassifier', 'AdaBoostClassifier', 'RandomForestClassifier']\n",
    "\n",
    "for classifier in classifiers:\n",
    "    if classifier.__class__.__name__ in tree_based_classifiers:\n",
    "        encoder = ohe_pipeline\n",
    "    else:\n",
    "        encoder = oe_pipeline\n",
    "    steps = [('encoder', encoder), ('scaler', MinMaxScaler()), ('imputer', KNNImputer()), ('sample', SMOTE()), ('model', classifier)]\n",
    "    if classifier.__class__.__name__ not in tree_based_classifiers:\n",
    "        steps.insert(3, ('discretizer', KBinsDiscretizer(n_bins=5, encode='ordinal', strategy='uniform')))\n",
    "    pipeline = Pipeline(steps=steps)\n",
    "    pipelines[classifier.__class__.__name__] = pipeline"
   ],
   "metadata": {
    "collapsed": false
   }
  },
  {
   "cell_type": "code",
   "execution_count": 8,
   "outputs": [
    {
     "name": "stdout",
     "output_type": "stream",
     "text": [
      "Recall Score: 0.763\n",
      "DecisionTreeClassifier [0.76008772 0.77631579 0.75208425 0.77226854 0.76831944 0.76393155\n",
      " 0.75120667 0.74857394 0.75208425 0.7577885  0.75482456 0.75219298\n",
      " 0.78367705 0.77621764 0.77139096 0.76700307 0.738043   0.75340061\n",
      " 0.77051338 0.7538394  0.76798246 0.75131579 0.76480913 0.75910487\n",
      " 0.76480913 0.82053532 0.75734971 0.7656867  0.76261518 0.75954366]\n",
      "Recall Score: 0.794\n",
      "KNeighborsClassifier [0.80657895 0.78289474 0.78806494 0.80473892 0.79464677 0.78762615\n",
      " 0.79157525 0.77841158 0.79201404 0.79991224 0.79254386 0.79912281\n",
      " 0.80912681 0.7898201  0.77446248 0.79113646 0.82755595 0.79113646\n",
      " 0.78499342 0.78806494 0.80219298 0.78464912 0.80254498 0.78543221\n",
      " 0.80693287 0.78279947 0.8016674  0.785871   0.81526986 0.78543221]\n",
      "Recall Score: 0.769\n",
      "CategoricalNB [0.76842105 0.76578947 0.75559456 0.76437034 0.77928916 0.76437034\n",
      " 0.77358491 0.77314612 0.76700307 0.7819219  0.77324561 0.77192982\n",
      " 0.7617376  0.76788065 0.77753401 0.75734971 0.76656428 0.75515577\n",
      " 0.76963581 0.78016674 0.77149123 0.7622807  0.76349276 0.7538394\n",
      " 0.77446248 0.76744186 0.77577885 0.78411584 0.76744186 0.77885037]\n",
      "Recall Score: 0.758\n",
      "BaggingClassifier [0.75350877 0.77192982 0.7617376  0.74506362 0.75910487 0.75691093\n",
      " 0.76744186 0.76875823 0.7222466  0.75515577 0.7372807  0.76140351\n",
      " 0.76349276 0.75471698 0.77270733 0.74637999 0.77182975 0.76656428\n",
      " 0.76831944 0.76086003 0.76710526 0.7622807  0.75427819 0.77007459\n",
      " 0.76437034 0.75998245 0.75340061 0.75208425 0.76261518 0.74330847]\n",
      "Recall Score: 0.847\n",
      "AdaBoostClassifier [0.83289474 0.85       0.84861781 0.85563844 0.85388328 0.8451075\n",
      " 0.85519965 0.85168934 0.84949539 0.85037297 0.85307018 0.8495614\n",
      " 0.8411584  0.83282141 0.86397543 0.8451075  0.83808688 0.84686266\n",
      " 0.84028082 0.85651602 0.84824561 0.85350877 0.84861781 0.83808688\n",
      " 0.84554629 0.8332602  0.83984204 0.86002633 0.84071961 0.84379114]\n",
      "Recall Score: 0.738\n",
      "RandomForestClassifier [0.75526316 0.73070175 0.75120667 0.73277753 0.74067573 0.738043\n",
      " 0.72795086 0.74813515 0.74330847 0.73189996 0.72017544 0.73640351\n",
      " 0.72487933 0.74330847 0.738043   0.73497148 0.73541027 0.73058359\n",
      " 0.7459412  0.74067573 0.74649123 0.73508772 0.71654234 0.74637999\n",
      " 0.74023695 0.70908293 0.73189996 0.74462484 0.75822729 0.74769636]\n"
     ]
    }
   ],
   "source": [
    "for name, pipeline in pipelines.items():\n",
    "    cv = RepeatedStratifiedKFold(n_splits=10, n_repeats=3)\n",
    "    scores = cross_val_score(pipeline, X_train, y_train, scoring='recall_weighted', cv=cv, n_jobs=-1)\n",
    "    score = np.mean(scores)\n",
    "    print('Recall Score: %.3f' % score)\n",
    "    print(name, scores)\n",
    "    pipeline.fit(X_train, y_train)"
   ],
   "metadata": {
    "collapsed": false
   }
  },
  {
   "cell_type": "code",
   "execution_count": 9,
   "outputs": [
    {
     "name": "stdout",
     "output_type": "stream",
     "text": [
      "--------------------------------\n",
      "DecisionTreeClassifier\n",
      "              precision    recall  f1-score   support\n",
      "\n",
      "       <=50K       0.94      0.73      0.82      7438\n",
      "        >50K       0.50      0.84      0.62      2331\n",
      "\n",
      "    accuracy                           0.76      9769\n",
      "   macro avg       0.72      0.79      0.72      9769\n",
      "weighted avg       0.83      0.76      0.77      9769\n",
      "\n",
      "--------------------------------\n",
      "--------------------------------\n",
      "KNeighborsClassifier\n",
      "              precision    recall  f1-score   support\n",
      "\n",
      "       <=50K       0.88      0.86      0.87      7438\n",
      "        >50K       0.59      0.63      0.61      2331\n",
      "\n",
      "    accuracy                           0.81      9769\n",
      "   macro avg       0.73      0.74      0.74      9769\n",
      "weighted avg       0.81      0.81      0.81      9769\n",
      "\n",
      "--------------------------------\n",
      "--------------------------------\n",
      "CategoricalNB\n",
      "              precision    recall  f1-score   support\n",
      "\n",
      "       <=50K       0.94      0.75      0.83      7438\n",
      "        >50K       0.51      0.85      0.64      2331\n",
      "\n",
      "    accuracy                           0.77      9769\n",
      "   macro avg       0.73      0.80      0.74      9769\n",
      "weighted avg       0.84      0.77      0.79      9769\n",
      "\n",
      "--------------------------------\n",
      "--------------------------------\n",
      "BaggingClassifier\n",
      "              precision    recall  f1-score   support\n",
      "\n",
      "       <=50K       0.95      0.71      0.81      7438\n",
      "        >50K       0.49      0.87      0.62      2331\n",
      "\n",
      "    accuracy                           0.75      9769\n",
      "   macro avg       0.72      0.79      0.72      9769\n",
      "weighted avg       0.84      0.75      0.77      9769\n",
      "\n",
      "--------------------------------\n",
      "--------------------------------\n",
      "AdaBoostClassifier\n",
      "              precision    recall  f1-score   support\n",
      "\n",
      "       <=50K       0.91      0.89      0.90      7438\n",
      "        >50K       0.67      0.73      0.70      2331\n",
      "\n",
      "    accuracy                           0.85      9769\n",
      "   macro avg       0.79      0.81      0.80      9769\n",
      "weighted avg       0.85      0.85      0.85      9769\n",
      "\n",
      "--------------------------------\n",
      "--------------------------------\n",
      "RandomForestClassifier\n",
      "              precision    recall  f1-score   support\n",
      "\n",
      "       <=50K       0.94      0.68      0.79      7438\n",
      "        >50K       0.46      0.87      0.60      2331\n",
      "\n",
      "    accuracy                           0.72      9769\n",
      "   macro avg       0.70      0.77      0.70      9769\n",
      "weighted avg       0.83      0.72      0.74      9769\n",
      "\n",
      "--------------------------------\n"
     ]
    }
   ],
   "source": [
    "for name, pipeline in pipelines.items():\n",
    "    y_pred_test = pipeline.predict(X_test)\n",
    "    print('--------------------------------')\n",
    "    print(name)\n",
    "    print(classification_report(lb.transform(y_test), y_pred_test, target_names=lb.classes_))\n",
    "    print('--------------------------------')"
   ],
   "metadata": {
    "collapsed": false
   }
  },
  {
   "cell_type": "code",
   "execution_count": 10,
   "outputs": [
    {
     "name": "stdout",
     "output_type": "stream",
     "text": [
      "Best: 0.833450 using {'model__estimator__criterion': 'gini', 'model__estimator__max_depth': None, 'model__estimator__max_features': 10, 'model__estimator__min_samples_split': 10}\n",
      "              precision    recall  f1-score   support\n",
      "\n",
      "       <=50K       0.91      0.86      0.89      7438\n",
      "        >50K       0.62      0.73      0.67      2331\n",
      "\n",
      "    accuracy                           0.83      9769\n",
      "   macro avg       0.77      0.80      0.78      9769\n",
      "weighted avg       0.84      0.83      0.84      9769\n",
      "\n"
     ]
    }
   ],
   "source": [
    "parameters_for_testing = {\n",
    "    \"model__estimator__max_features\": [2, 5, 10],\n",
    "    \"model__estimator__max_depth\": [3, 5, None],\n",
    "    \"model__estimator__min_samples_split\": [2, 5, 10],\n",
    "    \"model__estimator__criterion\": ['gini', 'entropy'],\n",
    "}\n",
    "\n",
    "cv = RepeatedStratifiedKFold(n_splits=10, n_repeats=1)\n",
    "grid_cv = GridSearchCV(estimator=pipelines['BaggingClassifier'], param_grid=parameters_for_testing, scoring='recall_weighted', cv=cv, n_jobs=-1)\n",
    "result = grid_cv.fit(X_train, y_train)\n",
    "\n",
    "print(\"Best: %f using %s\" % (result.best_score_, result.best_params_))\n",
    "print(classification_report(lb.transform(y_test), result.predict(X_test), target_names=lb.classes_))"
   ],
   "metadata": {
    "collapsed": false
   }
  },
  {
   "cell_type": "code",
   "execution_count": 11,
   "outputs": [
    {
     "name": "stdout",
     "output_type": "stream",
     "text": [
      "[[1.         0.        ]\n",
      " [0.80641414 0.19358586]\n",
      " [0.48398629 0.51601371]\n",
      " ...\n",
      " [0.0852381  0.9147619 ]\n",
      " [0.38373016 0.61626984]\n",
      " [0.04041667 0.95958333]]\n",
      "['<=50K' '<=50K' '>50K' ... '>50K' '>50K' '>50K']\n"
     ]
    }
   ],
   "source": [
    "y_pred = result.predict_proba(unlabeled_data)\n",
    "\n",
    "print(y_pred)\n",
    "print(lb.inverse_transform(y_pred))"
   ],
   "metadata": {
    "collapsed": false
   }
  },
  {
   "cell_type": "code",
   "execution_count": 12,
   "outputs": [
    {
     "name": "stdout",
     "output_type": "stream",
     "text": [
      "317984.43212060904\n",
      "6914\n"
     ]
    }
   ],
   "source": [
    "# x * 0.1 * 980 + (1 - x) * 0.05 * -310 > 10\n",
    "# => x > 51/227\n",
    "customer_id = []\n",
    "expected_profit = 0\n",
    "for i in range(len(y_pred)):\n",
    "    estimated_profit = (y_pred[i][1] * 0.1 * 980 + y_pred[i][0] * 0.05 * (-310)) - 10\n",
    "    if estimated_profit > 0:\n",
    "        customer_id.append(i)\n",
    "        expected_profit += estimated_profit\n",
    "\n",
    "print(expected_profit)\n",
    "print(len(customer_id))"
   ],
   "metadata": {
    "collapsed": false
   }
  },
  {
   "cell_type": "code",
   "execution_count": 14,
   "outputs": [],
   "source": [
    "np.savetxt(\"promotion.txt\", customer_id, fmt=\"%d\")"
   ],
   "metadata": {
    "collapsed": false
   }
  },
  {
   "cell_type": "code",
   "execution_count": 13,
   "outputs": [],
   "source": [],
   "metadata": {
    "collapsed": false
   }
  }
 ],
 "metadata": {
  "kernelspec": {
   "display_name": "Python 3",
   "language": "python",
   "name": "python3"
  },
  "language_info": {
   "codemirror_mode": {
    "name": "ipython",
    "version": 2
   },
   "file_extension": ".py",
   "mimetype": "text/x-python",
   "name": "python",
   "nbconvert_exporter": "python",
   "pygments_lexer": "ipython2",
   "version": "2.7.6"
  }
 },
 "nbformat": 4,
 "nbformat_minor": 0
}
